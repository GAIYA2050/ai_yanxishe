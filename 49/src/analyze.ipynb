{
 "cells": [
  {
   "cell_type": "code",
   "execution_count": 4,
   "metadata": {},
   "outputs": [],
   "source": [
    "import re\n",
    "import html\n",
    "import numpy as np\n",
    "import pandas as pd"
   ]
  },
  {
   "cell_type": "code",
   "execution_count": 5,
   "metadata": {},
   "outputs": [
    {
     "data": {
      "text/html": [
       "<div>\n",
       "<style scoped>\n",
       "    .dataframe tbody tr th:only-of-type {\n",
       "        vertical-align: middle;\n",
       "    }\n",
       "\n",
       "    .dataframe tbody tr th {\n",
       "        vertical-align: top;\n",
       "    }\n",
       "\n",
       "    .dataframe thead th {\n",
       "        text-align: right;\n",
       "    }\n",
       "</style>\n",
       "<table border=\"1\" class=\"dataframe\">\n",
       "  <thead>\n",
       "    <tr style=\"text-align: right;\">\n",
       "      <th></th>\n",
       "      <th>abst</th>\n",
       "      <th>keyword</th>\n",
       "      <th>label</th>\n",
       "    </tr>\n",
       "  </thead>\n",
       "  <tbody>\n",
       "    <tr>\n",
       "      <th>0</th>\n",
       "      <td>法律介入企业融资的正当性不在于难易,而在于公平.企业有权以各种正当、合法的方式融资,发展普惠...</td>\n",
       "      <td>['公平融资权', '金融市场结构', '竞争性供给', '普惠金融']</td>\n",
       "      <td>1</td>\n",
       "    </tr>\n",
       "    <tr>\n",
       "      <th>1</th>\n",
       "      <td>视频解码是一类最典型的多媒体应用,其计算量大、耗能高.现代多媒体计算平台可利用视频解码计算复...</td>\n",
       "      <td>['线性模型', '视频解码', '计算复杂度', '进行']</td>\n",
       "      <td>0</td>\n",
       "    </tr>\n",
       "    <tr>\n",
       "      <th>2</th>\n",
       "      <td>通过对数值模拟不确定度产生机制的理论分析以及对不确定度从考核区到应用区发展趋势的反演,展示数...</td>\n",
       "      <td>['可靠性认证', '验证与确认', '数值模拟不确定度']</td>\n",
       "      <td>1</td>\n",
       "    </tr>\n",
       "    <tr>\n",
       "      <th>3</th>\n",
       "      <td>邬焜先生在“信息本体论”、“信息认识论”、“信息进化论”的基础上,推导出“信息价值论”.行文...</td>\n",
       "      <td>['物质结构', '信息哲学', '信息结构', '中介粒子场']</td>\n",
       "      <td>1</td>\n",
       "    </tr>\n",
       "    <tr>\n",
       "      <th>4</th>\n",
       "      <td>20世纪80年代以来,世界经济出现了以美国为中心的全球失衡现象,表现为美国的经常项目和投资净...</td>\n",
       "      <td>['国际分工', '金融危机', '美元特权', '美元']</td>\n",
       "      <td>0</td>\n",
       "    </tr>\n",
       "  </tbody>\n",
       "</table>\n",
       "</div>"
      ],
      "text/plain": [
       "                                                abst  \\\n",
       "0  法律介入企业融资的正当性不在于难易,而在于公平.企业有权以各种正当、合法的方式融资,发展普惠...   \n",
       "1  视频解码是一类最典型的多媒体应用,其计算量大、耗能高.现代多媒体计算平台可利用视频解码计算复...   \n",
       "2  通过对数值模拟不确定度产生机制的理论分析以及对不确定度从考核区到应用区发展趋势的反演,展示数...   \n",
       "3  邬焜先生在“信息本体论”、“信息认识论”、“信息进化论”的基础上,推导出“信息价值论”.行文...   \n",
       "4  20世纪80年代以来,世界经济出现了以美国为中心的全球失衡现象,表现为美国的经常项目和投资净...   \n",
       "\n",
       "                                keyword  label  \n",
       "0  ['公平融资权', '金融市场结构', '竞争性供给', '普惠金融']      1  \n",
       "1       ['线性模型', '视频解码', '计算复杂度', '进行']      0  \n",
       "2        ['可靠性认证', '验证与确认', '数值模拟不确定度']      1  \n",
       "3     ['物质结构', '信息哲学', '信息结构', '中介粒子场']      1  \n",
       "4        ['国际分工', '金融危机', '美元特权', '美元']      0  "
      ]
     },
     "execution_count": 5,
     "metadata": {},
     "output_type": "execute_result"
    }
   ],
   "source": [
    "train_df = pd.read_csv('../data/train.csv')\n",
    "train_df.head()"
   ]
  },
  {
   "cell_type": "code",
   "execution_count": 6,
   "metadata": {},
   "outputs": [
    {
     "data": {
      "text/html": [
       "<div>\n",
       "<style scoped>\n",
       "    .dataframe tbody tr th:only-of-type {\n",
       "        vertical-align: middle;\n",
       "    }\n",
       "\n",
       "    .dataframe tbody tr th {\n",
       "        vertical-align: top;\n",
       "    }\n",
       "\n",
       "    .dataframe thead th {\n",
       "        text-align: right;\n",
       "    }\n",
       "</style>\n",
       "<table border=\"1\" class=\"dataframe\">\n",
       "  <thead>\n",
       "    <tr style=\"text-align: right;\">\n",
       "      <th></th>\n",
       "      <th>abst</th>\n",
       "      <th>keyword</th>\n",
       "    </tr>\n",
       "  </thead>\n",
       "  <tbody>\n",
       "    <tr>\n",
       "      <th>0</th>\n",
       "      <td>针对大型双驱龙门机床中由于大质量滑块运动导致的参数不确定性和时变干扰,为了实现高精度同步控制...</td>\n",
       "      <td>['大型双驱龙门机床', 'H∞控制', '龙门']</td>\n",
       "    </tr>\n",
       "    <tr>\n",
       "      <th>1</th>\n",
       "      <td>11月17日，第十八届西部公证工作研讨会在广西南宁召开。司法部、中国公证协会有关领导出席会议...</td>\n",
       "      <td>['公证人员', '理论创新', '管理部门', '改革']</td>\n",
       "    </tr>\n",
       "    <tr>\n",
       "      <th>2</th>\n",
       "      <td>研究承水压混凝土结构的损伤与渗透问题有利于地下工程结构的安全运营，譬如山岭隧道、城市地下结构...</td>\n",
       "      <td>['承水压', '耦合关系', '渗透特性', '损伤机理']</td>\n",
       "    </tr>\n",
       "    <tr>\n",
       "      <th>3</th>\n",
       "      <td>以N-溴代丁二亚酰胺(NBS)为催化剂,制备了乙酰化木棉纤维吸油材料.利用红外光谱(FTIR...</td>\n",
       "      <td>['正交试验', '乙酸酐', '木棉纤维', '扫描电镜']</td>\n",
       "    </tr>\n",
       "    <tr>\n",
       "      <th>4</th>\n",
       "      <td>以历史观和发展观透视法国工程师学历教育的产生与发展.对于成长于第一次工业革命、成熟于第二次工...</td>\n",
       "      <td>['法国学位制度', '法国工程教育', '工程师学历教育', '法国高等教育体制']</td>\n",
       "    </tr>\n",
       "  </tbody>\n",
       "</table>\n",
       "</div>"
      ],
      "text/plain": [
       "                                                abst  \\\n",
       "0  针对大型双驱龙门机床中由于大质量滑块运动导致的参数不确定性和时变干扰,为了实现高精度同步控制...   \n",
       "1  11月17日，第十八届西部公证工作研讨会在广西南宁召开。司法部、中国公证协会有关领导出席会议...   \n",
       "2  研究承水压混凝土结构的损伤与渗透问题有利于地下工程结构的安全运营，譬如山岭隧道、城市地下结构...   \n",
       "3  以N-溴代丁二亚酰胺(NBS)为催化剂,制备了乙酰化木棉纤维吸油材料.利用红外光谱(FTIR...   \n",
       "4  以历史观和发展观透视法国工程师学历教育的产生与发展.对于成长于第一次工业革命、成熟于第二次工...   \n",
       "\n",
       "                                       keyword  \n",
       "0                   ['大型双驱龙门机床', 'H∞控制', '龙门']  \n",
       "1               ['公证人员', '理论创新', '管理部门', '改革']  \n",
       "2              ['承水压', '耦合关系', '渗透特性', '损伤机理']  \n",
       "3              ['正交试验', '乙酸酐', '木棉纤维', '扫描电镜']  \n",
       "4  ['法国学位制度', '法国工程教育', '工程师学历教育', '法国高等教育体制']  "
      ]
     },
     "execution_count": 6,
     "metadata": {},
     "output_type": "execute_result"
    }
   ],
   "source": [
    "test_df = pd.read_csv('../data/test.csv')\n",
    "test_df.head()"
   ]
  },
  {
   "cell_type": "code",
   "execution_count": 8,
   "metadata": {},
   "outputs": [],
   "source": [
    "def solve(row):\n",
    "    columns = ['abst', 'keyword']\n",
    "    ans = row['abst'] + ','.join(row['keyword'])\n",
    "    return ans    "
   ]
  },
  {
   "cell_type": "code",
   "execution_count": 9,
   "metadata": {},
   "outputs": [],
   "source": [
    "train_df['text'] = train_df.apply(lambda row: solve(row), axis=1)\n",
    "test_df['text'] = test_df.apply(lambda row: solve(row), axis=1)"
   ]
  },
  {
   "cell_type": "code",
   "execution_count": 12,
   "metadata": {},
   "outputs": [
    {
     "name": "stdout",
     "output_type": "stream",
     "text": [
      "1597\n"
     ]
    }
   ],
   "source": [
    "texts = train_df.text.tolist()\n",
    "max_len = 0\n",
    "df_len_list = []\n",
    "for i in range(len(texts)):\n",
    "    text = []\n",
    "    text = texts[i]\n",
    "#     if max_len < len(text):\n",
    "#         print(text)\n",
    "    df_len_list.append(len(text))\n",
    "    max_len = max(max_len, len(text))\n",
    "print(max_len)"
   ]
  },
  {
   "cell_type": "code",
   "execution_count": 13,
   "metadata": {},
   "outputs": [
    {
     "data": {
      "text/plain": [
       "1026"
      ]
     },
     "execution_count": 13,
     "metadata": {},
     "output_type": "execute_result"
    }
   ],
   "source": [
    "sorted_len = sorted(df_len_list)\n",
    "sorted_len[int(len(sorted_len)*0.999)]"
   ]
  },
  {
   "cell_type": "code",
   "execution_count": 15,
   "metadata": {},
   "outputs": [
    {
     "data": {
      "text/plain": [
       "1    9249\n",
       "0    9151\n",
       "Name: label, dtype: int64"
      ]
     },
     "execution_count": 15,
     "metadata": {},
     "output_type": "execute_result"
    }
   ],
   "source": [
    "train_df.label.value_counts()"
   ]
  }
 ],
 "metadata": {
  "kernelspec": {
   "display_name": "Python 3",
   "language": "python",
   "name": "python3"
  },
  "language_info": {
   "codemirror_mode": {
    "name": "ipython",
    "version": 3
   },
   "file_extension": ".py",
   "mimetype": "text/x-python",
   "name": "python",
   "nbconvert_exporter": "python",
   "pygments_lexer": "ipython3",
   "version": "3.6.9"
  }
 },
 "nbformat": 4,
 "nbformat_minor": 2
}

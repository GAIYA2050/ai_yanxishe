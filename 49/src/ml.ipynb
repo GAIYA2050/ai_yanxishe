{
 "cells": [
  {
   "cell_type": "code",
   "execution_count": 1,
   "metadata": {},
   "outputs": [],
   "source": [
    "import re\n",
    "import numpy as np\n",
    "import pandas as pd\n",
    "from collections import Counter\n",
    "from bs4 import BeautifulSoup\n",
    "from nltk.corpus import stopwords\n",
    "from sklearn.feature_extraction.text import TfidfVectorizer as TF\n",
    "from sklearn.linear_model import LogisticRegression as LR\n",
    "from sklearn.model_selection import GridSearchCV, train_test_split\n",
    "from sklearn.model_selection import cross_val_score\n",
    "from conf import config"
   ]
  },
  {
   "cell_type": "code",
   "execution_count": 2,
   "metadata": {},
   "outputs": [
    {
     "data": {
      "text/html": [
       "<div>\n",
       "<style scoped>\n",
       "    .dataframe tbody tr th:only-of-type {\n",
       "        vertical-align: middle;\n",
       "    }\n",
       "\n",
       "    .dataframe tbody tr th {\n",
       "        vertical-align: top;\n",
       "    }\n",
       "\n",
       "    .dataframe thead th {\n",
       "        text-align: right;\n",
       "    }\n",
       "</style>\n",
       "<table border=\"1\" class=\"dataframe\">\n",
       "  <thead>\n",
       "    <tr style=\"text-align: right;\">\n",
       "      <th></th>\n",
       "      <th>abst</th>\n",
       "      <th>keyword</th>\n",
       "      <th>label</th>\n",
       "    </tr>\n",
       "  </thead>\n",
       "  <tbody>\n",
       "    <tr>\n",
       "      <th>0</th>\n",
       "      <td>法律介入企业融资的正当性不在于难易,而在于公平.企业有权以各种正当、合法的方式融资,发展普惠...</td>\n",
       "      <td>['公平融资权', '金融市场结构', '竞争性供给', '普惠金融']</td>\n",
       "      <td>1</td>\n",
       "    </tr>\n",
       "    <tr>\n",
       "      <th>1</th>\n",
       "      <td>视频解码是一类最典型的多媒体应用,其计算量大、耗能高.现代多媒体计算平台可利用视频解码计算复...</td>\n",
       "      <td>['线性模型', '视频解码', '计算复杂度', '进行']</td>\n",
       "      <td>0</td>\n",
       "    </tr>\n",
       "    <tr>\n",
       "      <th>2</th>\n",
       "      <td>通过对数值模拟不确定度产生机制的理论分析以及对不确定度从考核区到应用区发展趋势的反演,展示数...</td>\n",
       "      <td>['可靠性认证', '验证与确认', '数值模拟不确定度']</td>\n",
       "      <td>1</td>\n",
       "    </tr>\n",
       "    <tr>\n",
       "      <th>3</th>\n",
       "      <td>邬焜先生在“信息本体论”、“信息认识论”、“信息进化论”的基础上,推导出“信息价值论”.行文...</td>\n",
       "      <td>['物质结构', '信息哲学', '信息结构', '中介粒子场']</td>\n",
       "      <td>1</td>\n",
       "    </tr>\n",
       "    <tr>\n",
       "      <th>4</th>\n",
       "      <td>20世纪80年代以来,世界经济出现了以美国为中心的全球失衡现象,表现为美国的经常项目和投资净...</td>\n",
       "      <td>['国际分工', '金融危机', '美元特权', '美元']</td>\n",
       "      <td>0</td>\n",
       "    </tr>\n",
       "  </tbody>\n",
       "</table>\n",
       "</div>"
      ],
      "text/plain": [
       "                                                abst  \\\n",
       "0  法律介入企业融资的正当性不在于难易,而在于公平.企业有权以各种正当、合法的方式融资,发展普惠...   \n",
       "1  视频解码是一类最典型的多媒体应用,其计算量大、耗能高.现代多媒体计算平台可利用视频解码计算复...   \n",
       "2  通过对数值模拟不确定度产生机制的理论分析以及对不确定度从考核区到应用区发展趋势的反演,展示数...   \n",
       "3  邬焜先生在“信息本体论”、“信息认识论”、“信息进化论”的基础上,推导出“信息价值论”.行文...   \n",
       "4  20世纪80年代以来,世界经济出现了以美国为中心的全球失衡现象,表现为美国的经常项目和投资净...   \n",
       "\n",
       "                                keyword  label  \n",
       "0  ['公平融资权', '金融市场结构', '竞争性供给', '普惠金融']      1  \n",
       "1       ['线性模型', '视频解码', '计算复杂度', '进行']      0  \n",
       "2        ['可靠性认证', '验证与确认', '数值模拟不确定度']      1  \n",
       "3     ['物质结构', '信息哲学', '信息结构', '中介粒子场']      1  \n",
       "4        ['国际分工', '金融危机', '美元特权', '美元']      0  "
      ]
     },
     "execution_count": 2,
     "metadata": {},
     "output_type": "execute_result"
    }
   ],
   "source": [
    "train_df = pd.read_csv('../data/train.csv')\n",
    "test_df = pd.read_csv('../data/test.csv')\n",
    "train_df.head()"
   ]
  },
  {
   "cell_type": "code",
   "execution_count": 3,
   "metadata": {},
   "outputs": [],
   "source": [
    "def test(row):\n",
    "    columns = ['abst', 'keyword']\n",
    "    ans = ','.join(row['keyword']) + row['abst']\n",
    "    return ans    "
   ]
  },
  {
   "cell_type": "code",
   "execution_count": 4,
   "metadata": {},
   "outputs": [],
   "source": [
    "train_df['text'] = train_df.apply(lambda row: test(row), axis=1)\n",
    "test_df['text'] = test_df.apply(lambda row: test(row), axis=1)"
   ]
  },
  {
   "cell_type": "code",
   "execution_count": 5,
   "metadata": {},
   "outputs": [
    {
     "data": {
      "text/plain": [
       "0    [,',大,型,双,驱,龙,门,机,床,',,, ,',H,∞,控,制,',,, ,',龙,...\n",
       "1    [,',公,证,人,员,',,, ,',理,论,创,新,',,, ,',管,理,部,门,',...\n",
       "2    [,',承,水,压,',,, ,',耦,合,关,系,',,, ,',渗,透,特,性,',,,...\n",
       "3    [,',正,交,试,验,',,, ,',乙,酸,酐,',,, ,',木,棉,纤,维,',,,...\n",
       "4    [,',法,国,学,位,制,度,',,, ,',法,国,工,程,教,育,',,, ,',工,...\n",
       "Name: text, dtype: object"
      ]
     },
     "execution_count": 5,
     "metadata": {},
     "output_type": "execute_result"
    }
   ],
   "source": [
    "test_df['text'].head()"
   ]
  },
  {
   "cell_type": "code",
   "execution_count": 6,
   "metadata": {},
   "outputs": [
    {
     "name": "stdout",
     "output_type": "stream",
     "text": [
      "Creating the tfidf vector...\n",
      "\n",
      "(18400, 5000)\n",
      "(4600, 5000)\n"
     ]
    }
   ],
   "source": [
    "train_df = train_df.sample(frac=1).reset_index(drop=True)\n",
    "tfidf = TF(analyzer=\"word\",\n",
    "           tokenizer=None,\n",
    "           preprocessor=None,\n",
    "           stop_words=None,\n",
    "           max_features=5000)\n",
    "\n",
    "# 数据向量化\n",
    "print(\"Creating the tfidf vector...\\n\")\n",
    "tfidf.fit(train_df['text'])\n",
    "x_train = tfidf.transform(train_df['text'])\n",
    "x_train = x_train.toarray()\n",
    "\n",
    "x_test = tfidf.transform(test_df['text'])\n",
    "x_test = x_test.toarray()\n",
    "\n",
    "print(x_train.shape)\n",
    "print(x_test.shape)"
   ]
  },
  {
   "cell_type": "code",
   "execution_count": 7,
   "metadata": {},
   "outputs": [],
   "source": [
    "y_train = train_df[\"label\"]\n",
    "# x_train, x_val, fraudulent, y_cal = train_test_split(x_train, y_train, test_size=0.2, random_state=0)"
   ]
  },
  {
   "cell_type": "code",
   "execution_count": 8,
   "metadata": {},
   "outputs": [
    {
     "name": "stdout",
     "output_type": "stream",
     "text": [
      "Counter({1: 9249, 0: 9151})\n"
     ]
    }
   ],
   "source": [
    "print(Counter(y_train))"
   ]
  },
  {
   "cell_type": "code",
   "execution_count": 9,
   "metadata": {},
   "outputs": [
    {
     "data": {
      "text/plain": [
       "LogisticRegression(C=1.0, class_weight=None, dual=False, fit_intercept=True,\n",
       "                   intercept_scaling=1, l1_ratio=None, max_iter=100,\n",
       "                   multi_class='auto', n_jobs=None, penalty='l2',\n",
       "                   random_state=None, solver='liblinear', tol=0.0001, verbose=0,\n",
       "                   warm_start=False)"
      ]
     },
     "execution_count": 9,
     "metadata": {},
     "output_type": "execute_result"
    }
   ],
   "source": [
    "model = LR(solver='liblinear')\n",
    "# model.fit(x_train, y_train)\n",
    "model.fit(x_train, y_train)"
   ]
  },
  {
   "cell_type": "code",
   "execution_count": 10,
   "metadata": {},
   "outputs": [
    {
     "name": "stdout",
     "output_type": "stream",
     "text": [
      "10折交叉验证：\n",
      "0.32717391304347826\n"
     ]
    }
   ],
   "source": [
    "print(\"10折交叉验证：\")\n",
    "print(np.mean(cross_val_score(model, x_train, y_train, cv=10, scoring=\"accuracy\")))"
   ]
  },
  {
   "cell_type": "code",
   "execution_count": 11,
   "metadata": {},
   "outputs": [
    {
     "data": {
      "text/html": [
       "<div>\n",
       "<style scoped>\n",
       "    .dataframe tbody tr th:only-of-type {\n",
       "        vertical-align: middle;\n",
       "    }\n",
       "\n",
       "    .dataframe tbody tr th {\n",
       "        vertical-align: top;\n",
       "    }\n",
       "\n",
       "    .dataframe thead th {\n",
       "        text-align: right;\n",
       "    }\n",
       "</style>\n",
       "<table border=\"1\" class=\"dataframe\">\n",
       "  <thead>\n",
       "    <tr style=\"text-align: right;\">\n",
       "      <th></th>\n",
       "      <th>id</th>\n",
       "      <th>pred</th>\n",
       "    </tr>\n",
       "  </thead>\n",
       "  <tbody>\n",
       "    <tr>\n",
       "      <th>0</th>\n",
       "      <td>1</td>\n",
       "      <td>1</td>\n",
       "    </tr>\n",
       "    <tr>\n",
       "      <th>1</th>\n",
       "      <td>2</td>\n",
       "      <td>0</td>\n",
       "    </tr>\n",
       "    <tr>\n",
       "      <th>2</th>\n",
       "      <td>3</td>\n",
       "      <td>1</td>\n",
       "    </tr>\n",
       "    <tr>\n",
       "      <th>3</th>\n",
       "      <td>4</td>\n",
       "      <td>0</td>\n",
       "    </tr>\n",
       "    <tr>\n",
       "      <th>4</th>\n",
       "      <td>5</td>\n",
       "      <td>1</td>\n",
       "    </tr>\n",
       "  </tbody>\n",
       "</table>\n",
       "</div>"
      ],
      "text/plain": [
       "   id  pred\n",
       "0   1     1\n",
       "1   2     0\n",
       "2   3     1\n",
       "3   4     0\n",
       "4   5     1"
      ]
     },
     "execution_count": 11,
     "metadata": {},
     "output_type": "execute_result"
    }
   ],
   "source": [
    "preds = model.predict(x_test)\n",
    "submission = pd.DataFrame({'id': range(len(preds)), 'pred': preds})\n",
    "submission['id'] = submission['id'] + 1\n",
    "submission.to_csv(\"../data/ml_submission.csv\", index=False, header=False)\n",
    "submission.head()"
   ]
  },
  {
   "cell_type": "code",
   "execution_count": null,
   "metadata": {},
   "outputs": [],
   "source": []
  }
 ],
 "metadata": {
  "kernelspec": {
   "display_name": "Python 3",
   "language": "python",
   "name": "python3"
  },
  "language_info": {
   "codemirror_mode": {
    "name": "ipython",
    "version": 3
   },
   "file_extension": ".py",
   "mimetype": "text/x-python",
   "name": "python",
   "nbconvert_exporter": "python",
   "pygments_lexer": "ipython3",
   "version": "3.6.9"
  },
  "pycharm": {
   "stem_cell": {
    "cell_type": "raw",
    "metadata": {
     "collapsed": false
    },
    "source": []
   }
  }
 },
 "nbformat": 4,
 "nbformat_minor": 2
}
